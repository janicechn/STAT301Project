{
 "cells": [
  {
   "cell_type": "markdown",
   "id": "407723ba-247b-4ce6-b458-97d08a933a2e",
   "metadata": {},
   "source": [
    "# **`WORKING TITLE`**\n",
    "\n",
    "#### STAT 301 Project Group 22 Project Proposal\n",
    "##### *By Janice Chan, Elias Khan, Davis Li, Daniel Yuan*"
   ]
  },
  {
   "cell_type": "markdown",
   "id": "760fa609-261a-4771-b828-ad2faf769f7f",
   "metadata": {},
   "source": [
    "#### Introduction"
   ]
  },
  {
   "cell_type": "markdown",
   "id": "f06e7568-550c-420a-a810-b6589161333f",
   "metadata": {},
   "source": [
    "#### Preliminary Exploratory Data Analysis"
   ]
  },
  {
   "cell_type": "code",
   "execution_count": 1,
   "id": "ea847321-c511-4317-a2f1-8d406ca790ec",
   "metadata": {},
   "outputs": [],
   "source": [
    "# load packages"
   ]
  },
  {
   "cell_type": "code",
   "execution_count": null,
   "id": "83bfd52c-1a97-44a6-8c10-7a0b93b99e84",
   "metadata": {},
   "outputs": [],
   "source": [
    "# set seed for reproducibility\n",
    "\n",
    "# load, read, wrangle, clean data (Given ... data *insert in-text citation here*)"
   ]
  },
  {
   "cell_type": "code",
   "execution_count": null,
   "id": "d285777c-8e51-4819-ae42-edf1d447efdc",
   "metadata": {},
   "outputs": [],
   "source": [
    "# summarize data (estimates)"
   ]
  },
  {
   "cell_type": "code",
   "execution_count": null,
   "id": "6f47cd98-f697-49e3-a176-44b2e92cacb3",
   "metadata": {},
   "outputs": [],
   "source": [
    "# visualize/plot raw data"
   ]
  },
  {
   "cell_type": "markdown",
   "id": "2b0afc6f-d017-4ef7-bf4b-ec908de5319e",
   "metadata": {},
   "source": [
    "#### Methods\n",
    "\n",
    "From our dataset, we will use multiple linear regression, assessing models and selecting the best variables for our predictive model using forward stepwise selection. We will evaluate models' predicted performance with the root mean squared error, assess goodness of fit with the adjusted R<sup>2</sup>, and select our predictive model by using the test MSE, C<sub>p</sub>, AIC or BIC. We will perform on a training set from our data, and use it to predict values in the test set to test our model's prediction performance.\n",
    "\n",
    "Based on our previous research and preliminary data analysis, we expect...\n",
    "\n",
    "From our research, we expect to acheive an understanding of the attributes that contribute to car prices that consumers would spend on. We will gain an optimal model of the characteristics that have a relationship with car pricing to estimate. Moreover, our results will allow us to be able to estimate and predict reasonable car pricing for consumers. In turn, this may impact how car suggestions are offered depending on characteristics of the customer, and how automobile creators can decide cars to make with a certain budget and sale price for a particular audience. It provides greater insight on how to make the best choices as to which cars to offer consumers for their satisfaction, as well as a practical budget of cars to create for consumers without wasting goods, and economy on creating cars that may not perform well in a sales aspect. Our study may contribute for further research interests with the rise of electric cars and gas demands, economy impact by cars and gas, and environmental contributions by car uses with many who purchase cars. Our findings may be expanded in further study and research with characteristics of cars (not just the customers) to discover particular car types and/or qualities that impact how much certain consumers (by characteristic or income perhaps) spend. Further research can build on our study on those analyzing individuals' income and expenses, the demand that those may have to purchase a car, or even for studies on comparing qualities/characteristics based on data that may include spendings."
   ]
  },
  {
   "cell_type": "markdown",
   "id": "63677446-5d9c-419f-9795-30f7d6ec0f6c",
   "metadata": {},
   "source": [
    "#### Acknowledgements, Resources, and References"
   ]
  }
 ],
 "metadata": {
  "kernelspec": {
   "display_name": "R",
   "language": "R",
   "name": "ir"
  },
  "language_info": {
   "codemirror_mode": "r",
   "file_extension": ".r",
   "mimetype": "text/x-r-source",
   "name": "R",
   "pygments_lexer": "r",
   "version": "4.1.3"
  }
 },
 "nbformat": 4,
 "nbformat_minor": 5
}
